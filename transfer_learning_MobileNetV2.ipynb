{
  "nbformat": 4,
  "nbformat_minor": 0,
  "metadata": {
    "colab": {
      "name": "03_a_transfer_learning_.ipynb",
      "provenance": []
    },
    "kernelspec": {
      "name": "python3",
      "display_name": "Python 3"
    },
    "accelerator": "GPU"
  },
  "cells": [
    {
      "cell_type": "code",
      "metadata": {
        "id": "PcRVnX7nfwd4"
      },
      "source": [
        "import matplotlib.pyplot as plt\n",
        "import numpy as np\n",
        "import os\n",
        "import tensorflow as tf\n",
        "from tensorflow import keras\n",
        "\n",
        "from tensorflow.keras.preprocessing import image_dataset_from_directory\n",
        "import tensorflow_datasets as tfds"
      ],
      "execution_count": null,
      "outputs": []
    },
    {
      "cell_type": "code",
      "metadata": {
        "id": "IlnGWtNCfwia"
      },
      "source": [
        "(train_dataset, validation_dataset, test_dataset), metadata = tfds.load(\n",
        "    'horses_or_humans',\n",
        "    split=['train[:80%]','train[80%:]', 'test'], \n",
        "    with_info=True, \n",
        "    as_supervised=True,\n",
        ")\n",
        "\n"
      ],
      "execution_count": null,
      "outputs": []
    },
    {
      "cell_type": "code",
      "metadata": {
        "id": "yXdTyVV66AsL"
      },
      "source": [
        "IMG_SIZE = 160\n",
        "\n",
        "def format_example(image, label):\n",
        "  image = tf.cast(image, tf.float32)\n",
        "  image = (image/127.5) - 3\n",
        "  image = tf.image.resize(image, (IMG_SIZE, IMG_SIZE))\n",
        "  return image, label"
      ],
      "execution_count": null,
      "outputs": []
    },
    {
      "cell_type": "code",
      "metadata": {
        "id": "X1ySdY_tw_m6",
        "outputId": "ade1fb50-81d3-4a55-e333-428f87c8ffd5",
        "colab": {
          "base_uri": "https://localhost:8080/",
          "height": 34
        }
      },
      "source": [
        "train = train_dataset.map(format_example)\n",
        "validation = validation_dataset.map(format_example)\n",
        "test = test_dataset.map(format_example)\n",
        "\n",
        "BATCH_SIZE = 32\n",
        "shuffle_batch = 1000\n",
        "train_batches = train.shuffle(shuffle_batch).batch(BATCH_SIZE)\n",
        "validation_batches = validation.batch(BATCH_SIZE)\n",
        "test_batches = test.batch(BATCH_SIZE)\n",
        "\n",
        "for image_batch, label_batch in train_batches.take(1):\n",
        "  pass\n",
        "\n",
        "image_batch.shape"
      ],
      "execution_count": null,
      "outputs": [
        {
          "output_type": "execute_result",
          "data": {
            "text/plain": [
              "TensorShape([32, 160, 160, 3])"
            ]
          },
          "metadata": {
            "tags": []
          },
          "execution_count": 4
        }
      ]
    },
    {
      "cell_type": "markdown",
      "metadata": {
        "id": "5gLu0xFHaKr-"
      },
      "source": [
        "Using MobileNetV2 for improving accuracy\n",
        "\n",
        "*   model size 14MB\n",
        "*   Parameters 3,538,984\n",
        "*   Depth 88\n",
        "*   Top-1 accuracy - 0.71\n",
        "*   Top-5 accuracy - 0.90"
      ]
    },
    {
      "cell_type": "code",
      "metadata": {
        "id": "PKWn36sRfwpl"
      },
      "source": [
        "base_model = tf.keras.applications.MobileNetV2(input_shape = (160,160,3),\n",
        "                                               include_top = False,\n",
        "                                               weights = 'imagenet')"
      ],
      "execution_count": null,
      "outputs": []
    },
    {
      "cell_type": "code",
      "metadata": {
        "id": "-37UuOYf3oj9",
        "outputId": "443623f8-c782-446e-caa1-2fecc0d4f39e",
        "colab": {
          "base_uri": "https://localhost:8080/",
          "height": 34
        }
      },
      "source": [
        "feature_batch = base_model(image_batch)\n",
        "print(feature_batch.shape)"
      ],
      "execution_count": null,
      "outputs": [
        {
          "output_type": "stream",
          "text": [
            "(32, 5, 5, 1280)\n"
          ],
          "name": "stdout"
        }
      ]
    },
    {
      "cell_type": "code",
      "metadata": {
        "id": "EPRsSeSP4MUn"
      },
      "source": [
        "base_model.trainable = False"
      ],
      "execution_count": null,
      "outputs": []
    },
    {
      "cell_type": "code",
      "metadata": {
        "id": "Dg-8fI-S3tuf",
        "outputId": "3c3eda19-22a7-4038-bdf0-66501612cec3",
        "colab": {
          "base_uri": "https://localhost:8080/",
          "height": 34
        }
      },
      "source": [
        "global_average_layer = tf.keras.layers.GlobalAveragePooling2D()\n",
        "feature_batch_average = global_average_layer(feature_batch)\n",
        "print(feature_batch_average.shape)"
      ],
      "execution_count": null,
      "outputs": [
        {
          "output_type": "stream",
          "text": [
            "(32, 1280)\n"
          ],
          "name": "stdout"
        }
      ]
    },
    {
      "cell_type": "code",
      "metadata": {
        "id": "z96LQspL3txa"
      },
      "source": [
        ""
      ],
      "execution_count": null,
      "outputs": []
    },
    {
      "cell_type": "code",
      "metadata": {
        "id": "pN7bKlz3IHFV",
        "outputId": "3a2a3b9c-27db-4e7f-d1c9-a674e1e1c2df",
        "colab": {
          "base_uri": "https://localhost:8080/",
          "height": 34
        }
      },
      "source": [
        "prediction_layer = keras.layers.Dense(1)\n",
        "prediction_batch = prediction_layer(feature_batch_average)\n",
        "print(prediction_batch.shape)"
      ],
      "execution_count": null,
      "outputs": [
        {
          "output_type": "stream",
          "text": [
            "(32, 1)\n"
          ],
          "name": "stdout"
        }
      ]
    },
    {
      "cell_type": "code",
      "metadata": {
        "id": "88VmeUy8ItEP",
        "outputId": "e1608829-b8fe-4089-a5fd-d137c015bf01",
        "colab": {
          "base_uri": "https://localhost:8080/",
          "height": 255
        }
      },
      "source": [
        "model = tf.keras.Sequential([\n",
        "       base_model,\n",
        "       global_average_layer,\n",
        "       prediction_layer                      \n",
        "])\n",
        "\n",
        "model.compile(optimizer = tf.keras.optimizers.RMSprop(lr=0.0001),\n",
        "              loss = tf.keras.losses.BinaryCrossentropy(from_logits=True),\n",
        "              metrics = ['accuracy'])\n",
        "model.summary()"
      ],
      "execution_count": null,
      "outputs": [
        {
          "output_type": "stream",
          "text": [
            "Model: \"sequential\"\n",
            "_________________________________________________________________\n",
            "Layer (type)                 Output Shape              Param #   \n",
            "=================================================================\n",
            "mobilenetv2_1.00_160 (Functi (None, 5, 5, 1280)        2257984   \n",
            "_________________________________________________________________\n",
            "global_average_pooling2d (Gl (None, 1280)              0         \n",
            "_________________________________________________________________\n",
            "dense (Dense)                (None, 1)                 1281      \n",
            "=================================================================\n",
            "Total params: 2,259,265\n",
            "Trainable params: 1,281\n",
            "Non-trainable params: 2,257,984\n",
            "_________________________________________________________________\n"
          ],
          "name": "stdout"
        }
      ]
    },
    {
      "cell_type": "code",
      "metadata": {
        "id": "pkYsH4LrJ2t5",
        "outputId": "274fb95b-2fe2-42fc-bda0-9871a3e2a03b",
        "colab": {
          "base_uri": "https://localhost:8080/",
          "height": 374
        }
      },
      "source": [
        "stop_early = keras.callbacks.EarlyStopping(monitor='val_accuracy', patience=0, verbose=1 )\n",
        "\n",
        "history = model.fit(train_batches, epochs = 10, callbacks=[stop_early], validation_data = validation_batches)"
      ],
      "execution_count": null,
      "outputs": [
        {
          "output_type": "stream",
          "text": [
            "Epoch 1/10\n",
            "26/26 [==============================] - 3s 114ms/step - loss: 0.7894 - accuracy: 0.4927 - val_loss: 0.7069 - val_accuracy: 0.5463\n",
            "Epoch 2/10\n",
            "26/26 [==============================] - 2s 75ms/step - loss: 0.6645 - accuracy: 0.5815 - val_loss: 0.6077 - val_accuracy: 0.6195\n",
            "Epoch 3/10\n",
            "26/26 [==============================] - 2s 74ms/step - loss: 0.5761 - accuracy: 0.6545 - val_loss: 0.5310 - val_accuracy: 0.7268\n",
            "Epoch 4/10\n",
            "26/26 [==============================] - 2s 74ms/step - loss: 0.5029 - accuracy: 0.7336 - val_loss: 0.4700 - val_accuracy: 0.7951\n",
            "Epoch 5/10\n",
            "26/26 [==============================] - 2s 74ms/step - loss: 0.4422 - accuracy: 0.7798 - val_loss: 0.4132 - val_accuracy: 0.8244\n",
            "Epoch 6/10\n",
            "26/26 [==============================] - 2s 75ms/step - loss: 0.3914 - accuracy: 0.8285 - val_loss: 0.3656 - val_accuracy: 0.8537\n",
            "Epoch 7/10\n",
            "26/26 [==============================] - 2s 74ms/step - loss: 0.3494 - accuracy: 0.8601 - val_loss: 0.3271 - val_accuracy: 0.9073\n",
            "Epoch 8/10\n",
            "26/26 [==============================] - 2s 74ms/step - loss: 0.3135 - accuracy: 0.8869 - val_loss: 0.2932 - val_accuracy: 0.9171\n",
            "Epoch 9/10\n",
            "26/26 [==============================] - 2s 75ms/step - loss: 0.2834 - accuracy: 0.9039 - val_loss: 0.2704 - val_accuracy: 0.9415\n",
            "Epoch 10/10\n",
            "26/26 [==============================] - 2s 76ms/step - loss: 0.2598 - accuracy: 0.9185 - val_loss: 0.2447 - val_accuracy: 0.9317\n",
            "Epoch 00010: early stopping\n"
          ],
          "name": "stdout"
        }
      ]
    },
    {
      "cell_type": "code",
      "metadata": {
        "id": "rHuJLw4-KPPS",
        "outputId": "a20b7fca-41c6-40a2-894c-f3be5e0b70c0",
        "colab": {
          "base_uri": "https://localhost:8080/",
          "height": 51
        }
      },
      "source": [
        "loss,accuracy = model.evaluate(test_batches)\n",
        "print('Test accuracy :', accuracy)"
      ],
      "execution_count": null,
      "outputs": [
        {
          "output_type": "stream",
          "text": [
            "8/8 [==============================] - 1s 74ms/step - loss: 0.3557 - accuracy: 0.9219\n",
            "Test accuracy : 0.921875\n"
          ],
          "name": "stdout"
        }
      ]
    },
    {
      "cell_type": "markdown",
      "metadata": {
        "id": "YxRNNskJE4wR"
      },
      "source": [
        "Test accuracy achieved without any finetuning : 92.18%"
      ]
    },
    {
      "cell_type": "code",
      "metadata": {
        "id": "ULn5dtLM5N4V",
        "outputId": "83474dda-4c4e-487c-e2f3-6a2dfb6fb22c",
        "colab": {
          "base_uri": "https://localhost:8080/",
          "height": 513
        }
      },
      "source": [
        "acc = history.history['accuracy']\n",
        "val_acc = history.history['val_accuracy']\n",
        "\n",
        "loss = history.history['loss']\n",
        "val_loss = history.history['val_loss']\n",
        "\n",
        "plt.figure(figsize=(8, 8))\n",
        "plt.subplot(2, 1, 1)\n",
        "plt.plot(acc, label='Training Accuracy')\n",
        "plt.plot(val_acc, label='Validation Accuracy')\n",
        "plt.legend(loc='lower right')\n",
        "plt.ylabel('Accuracy')\n",
        "plt.ylim([min(plt.ylim()),1])\n",
        "plt.title('Training and Validation Accuracy')\n",
        "\n",
        "plt.subplot(2, 1, 2)\n",
        "plt.plot(loss, label='Training Loss')\n",
        "plt.plot(val_loss, label='Validation Loss')\n",
        "plt.legend(loc='upper right')\n",
        "plt.ylabel('Cross Entropy')\n",
        "plt.ylim([0,1.0])\n",
        "plt.title('Training and Validation Loss')\n",
        "plt.xlabel('epoch')\n",
        "plt.show()"
      ],
      "execution_count": null,
      "outputs": [
        {
          "output_type": "display_data",
          "data": {
            "image/png": "[encoded data removed]",
            "text/plain": [
              "<Figure size 576x576 with 2 Axes>"
            ]
          },
          "metadata": {
            "tags": [],
            "needs_background": "light"
          }
        }
      ]
    },
    {
      "cell_type": "markdown",
      "metadata": {
        "id": "ugKOYC4AxD-4"
      },
      "source": [
        "Fine Tuning\n"
      ]
    },
    {
      "cell_type": "code",
      "metadata": {
        "id": "LlY2q9zpxGGP"
      },
      "source": [
        "base_model.trainable = True"
      ],
      "execution_count": null,
      "outputs": []
    },
    {
      "cell_type": "code",
      "metadata": {
        "id": "fyGgxkTyxNhC",
        "outputId": "baee6619-4af4-456a-e557-bfeaba376bc4",
        "colab": {
          "base_uri": "https://localhost:8080/",
          "height": 34
        }
      },
      "source": [
        "# Let's take a look to see how many layers are in the base model\n",
        "print(\"Number of layers in the base model: \", len(base_model.layers))"
      ],
      "execution_count": null,
      "outputs": [
        {
          "output_type": "stream",
          "text": [
            "Number of layers in the base model:  155\n"
          ],
          "name": "stdout"
        }
      ]
    },
    {
      "cell_type": "code",
      "metadata": {
        "id": "d0gvXUzAxGPj"
      },
      "source": [
        "# Fine-tune from this layer onwards\n",
        "fine_tune_at = 100\n",
        "\n",
        "# Freeze all the layers before the `fine_tune_at` layer\n",
        "for layer in base_model.layers[:fine_tune_at]:\n",
        "  layer.trainable =  False"
      ],
      "execution_count": null,
      "outputs": []
    },
    {
      "cell_type": "code",
      "metadata": {
        "id": "PdSTj0PlxGNu"
      },
      "source": [
        "model.compile(loss=tf.keras.losses.BinaryCrossentropy(from_logits=True),\n",
        "              optimizer = tf.keras.optimizers.RMSprop(lr=0.0001/10),\n",
        "              metrics=['accuracy'])"
      ],
      "execution_count": null,
      "outputs": []
    },
    {
      "cell_type": "code",
      "metadata": {
        "id": "lHg7hhzmxGMM",
        "outputId": "edc097a6-f9a6-4040-ed53-afa53a207e0c",
        "colab": {
          "base_uri": "https://localhost:8080/",
          "height": 255
        }
      },
      "source": [
        "model.summary()"
      ],
      "execution_count": null,
      "outputs": [
        {
          "output_type": "stream",
          "text": [
            "Model: \"sequential\"\n",
            "_________________________________________________________________\n",
            "Layer (type)                 Output Shape              Param #   \n",
            "=================================================================\n",
            "mobilenetv2_1.00_160 (Functi (None, 5, 5, 1280)        2257984   \n",
            "_________________________________________________________________\n",
            "global_average_pooling2d (Gl (None, 1280)              0         \n",
            "_________________________________________________________________\n",
            "dense (Dense)                (None, 1)                 1281      \n",
            "=================================================================\n",
            "Total params: 2,259,265\n",
            "Trainable params: 1,863,873\n",
            "Non-trainable params: 395,392\n",
            "_________________________________________________________________\n"
          ],
          "name": "stdout"
        }
      ]
    },
    {
      "cell_type": "code",
      "metadata": {
        "id": "K8FyhWxGxGJ4",
        "outputId": "9dfcc42c-7fca-44e3-d346-4c1e2c6af12d",
        "colab": {
          "base_uri": "https://localhost:8080/",
          "height": 34
        }
      },
      "source": [
        "len(model.trainable_variables)"
      ],
      "execution_count": null,
      "outputs": [
        {
          "output_type": "execute_result",
          "data": {
            "text/plain": [
              "58"
            ]
          },
          "metadata": {
            "tags": []
          },
          "execution_count": 19
        }
      ]
    },
    {
      "cell_type": "code",
      "metadata": {
        "id": "TMY83VAxxloP",
        "outputId": "58940c10-9554-4310-d0e8-80720ace9dd1",
        "colab": {
          "base_uri": "https://localhost:8080/",
          "height": 238
        }
      },
      "source": [
        "initial_epochs = 10\n",
        "fine_tune_epochs = 10\n",
        "total_epochs =  initial_epochs + fine_tune_epochs\n",
        "\n",
        "\n",
        "history_fine = model.fit(train_batches, epochs = total_epochs, callbacks=[stop_early], initial_epoch=history.epoch[-1], validation_data = validation_batches)"
      ],
      "execution_count": null,
      "outputs": [
        {
          "output_type": "stream",
          "text": [
            "Epoch 10/20\n",
            "26/26 [==============================] - 3s 120ms/step - loss: 0.3496 - accuracy: 0.8613 - val_loss: 0.1591 - val_accuracy: 0.9512\n",
            "Epoch 11/20\n",
            "26/26 [==============================] - 2s 90ms/step - loss: 0.1789 - accuracy: 0.9708 - val_loss: 0.1248 - val_accuracy: 0.9561\n",
            "Epoch 12/20\n",
            "26/26 [==============================] - 2s 87ms/step - loss: 0.1105 - accuracy: 0.9842 - val_loss: 0.1007 - val_accuracy: 0.9707\n",
            "Epoch 13/20\n",
            "26/26 [==============================] - 2s 88ms/step - loss: 0.0599 - accuracy: 0.9964 - val_loss: 0.0828 - val_accuracy: 0.9756\n",
            "Epoch 14/20\n",
            "26/26 [==============================] - 2s 87ms/step - loss: 0.0388 - accuracy: 0.9976 - val_loss: 0.0691 - val_accuracy: 0.9902\n",
            "Epoch 15/20\n",
            "26/26 [==============================] - 2s 87ms/step - loss: 0.0308 - accuracy: 0.9976 - val_loss: 0.0584 - val_accuracy: 0.9902\n",
            "Epoch 00015: early stopping\n"
          ],
          "name": "stdout"
        }
      ]
    },
    {
      "cell_type": "code",
      "metadata": {
        "id": "W0QY3x6L0lnv",
        "outputId": "83cffe22-bd0d-4f6a-84ba-c1cd5cd07899",
        "colab": {
          "base_uri": "https://localhost:8080/",
          "height": 51
        }
      },
      "source": [
        "loss_,accuracy = model.evaluate(test_batches)\n",
        "print('Test accuracy :', accuracy)"
      ],
      "execution_count": null,
      "outputs": [
        {
          "output_type": "stream",
          "text": [
            "8/8 [==============================] - 1s 74ms/step - loss: 0.1138 - accuracy: 0.9648\n",
            "Test accuracy : 0.96484375\n"
          ],
          "name": "stdout"
        }
      ]
    },
    {
      "cell_type": "code",
      "metadata": {
        "id": "dmbhbnL01KxE"
      },
      "source": [
        "acc += history_fine.history['accuracy']\n",
        "val_acc += history_fine.history['val_accuracy']\n",
        "\n",
        "loss += history_fine.history['loss']\n",
        "val_loss += history_fine.history['val_loss']"
      ],
      "execution_count": null,
      "outputs": []
    },
    {
      "cell_type": "code",
      "metadata": {
        "id": "NywOzFiD0lw6",
        "outputId": "7c91500e-27c7-4588-e8a2-6dcbfaa5231e",
        "colab": {
          "base_uri": "https://localhost:8080/",
          "height": 513
        }
      },
      "source": [
        "plt.figure(figsize=(8, 8))\n",
        "plt.subplot(2, 1, 1)\n",
        "plt.plot(acc, label='Training Accuracy')\n",
        "plt.plot(val_acc, label='Validation Accuracy')\n",
        "plt.ylim([0.8, 1])\n",
        "plt.plot([initial_epochs-1,initial_epochs-1],\n",
        "          plt.ylim(), label='Start Fine Tuning')\n",
        "plt.legend(loc='lower right')\n",
        "plt.title('Training and Validation Accuracy')\n",
        "\n",
        "plt.subplot(2, 1, 2)\n",
        "plt.plot(loss, label='Training Loss')\n",
        "plt.plot(val_loss, label='Validation Loss')\n",
        "plt.ylim([0, 1.0])\n",
        "plt.plot([initial_epochs-1,initial_epochs-1],\n",
        "         plt.ylim(), label='Start Fine Tuning')\n",
        "plt.legend(loc='upper right')\n",
        "plt.title('Training and Validation Loss')\n",
        "plt.xlabel('epoch')\n",
        "plt.show()"
      ],
      "execution_count": null,
      "outputs": [
        {
          "output_type": "display_data",
          "data": {
            "image/png": "[encoded data removed]",
            "text/plain": [
              "<Figure size 576x576 with 2 Axes>"
            ]
          },
          "metadata": {
            "tags": [],
            "needs_background": "light"
          }
        }
      ]
    },
    {
      "cell_type": "markdown",
      "metadata": {
        "id": "1H-ctD5vFDaI"
      },
      "source": [
        "After epoch 9, last 58 layers of the base model was finetuned to achive better accuracy for the Horse or humans dataset.\n",
        "\n",
        "the accuracy achieved after fine tuning is 96.48 %\n",
        "which is 4.3% accuracy increase to the baseline model accuracy."
      ]
    },
    {
      "cell_type": "code",
      "metadata": {
        "id": "vHAsaXpOGLPY"
      },
      "source": [
        ""
      ],
      "execution_count": null,
      "outputs": []
    }
  ]
}